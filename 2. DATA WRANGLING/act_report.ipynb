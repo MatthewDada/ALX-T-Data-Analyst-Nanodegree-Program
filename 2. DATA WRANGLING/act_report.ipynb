{
 "cells": [
  {
   "cell_type": "markdown",
   "metadata": {},
   "source": [
    "## Report: act_report\n",
    "* Create a **250-word-minimum written report** called \"act_report.pdf\" or \"act_report.html\" that communicates the insights and displays the visualization(s) produced from your wrangled data. This is to be framed as an external document, like a blog post or magazine article, for example."
   ]
  },
  {
   "cell_type": "markdown",
   "metadata": {},
   "source": [
    "#### \n",
    "After the whole wrangling process, the gathering of the data, the assessment of the data, the cleaning of the data, and the storing of the data, I wanted to do some analysis and visualizations. So, I went on to import the stored data as master_df and did some quick assessment, where I saw that the datatypes of some columns had been altered, I fixed that first and then, I went on to give some insights.\n",
    "\n",
    "I started with a horizontal bar chart, to visually show the most popular dog names in the dataset, the top 25 names- to be specific. I intentionally obmitted 'None' because this is not regarded as a name, it is only an entry because the names of those dogs were not available. In this visualization, it is seen that the most popular names are Charlie, Cooper and Oliver; with 10 entries each with such names. \n",
    "\n",
    "Going forward, I checked for the relationship between the favorite counts and the retweet counts, using the lmplot feature of seaborn. I saw a positive correlation between these counts, and I went on to see how strong a relationship is between these counts, where I saw that the correlation is +0.929, which signifies a very strong positive correlation. Visually, I also that for the plots away from the clumpsy part of the lmplot, it seems as though the favorite count is usually about doubled the retweet count. \n",
    "\n",
    "Next, I went on to check which period had the tweets with the most retweet counts. Here, I saw that the periods with the least retweets were at the beginning of the axis, which could be speculated that, during those periods, the number of followers was not really high. Anyways, the original aim of this plot was to see the period with the most retweets, and it was seen that the period with this, was sometime in 2016-06, with slightly over 70000 retweets. Other periods where the relatively high retweets were seen were around; 2016-06(again) with over 50,000 retweets, 2016-12 with over 50,000 retweets too, and so on.\n",
    "\n",
    "Lastly, I did the same as above for the favorite counts. The period with the highest favorite counts was same as the one for the retweet counts- 2016-06, this time with over 140,000 favorite counts. Difference here are the other periods with the relatively high favorite counts. The next two periods where the highest favorite counts are in are; 2017-01, with over 120,000 favorite counts and 2016-12, with around 110,000 favorite counts. Although, here, two things are noticed, one is, there seem to be more spikes, second is that, there seems to be a progression from 2017-03. "
   ]
  }
 ],
 "metadata": {
  "kernelspec": {
   "display_name": "Python 3",
   "language": "python",
   "name": "python3"
  },
  "language_info": {
   "codemirror_mode": {
    "name": "ipython",
    "version": 3
   },
   "file_extension": ".py",
   "mimetype": "text/x-python",
   "name": "python",
   "nbconvert_exporter": "python",
   "pygments_lexer": "ipython3",
   "version": "3.8.8"
  }
 },
 "nbformat": 4,
 "nbformat_minor": 2
}
