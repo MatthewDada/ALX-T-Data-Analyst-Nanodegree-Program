{
 "cells": [
  {
   "cell_type": "markdown",
   "metadata": {},
   "source": [
    "## Reporting: wrangle_report\n",
    "* Create a **300-600 word written report** called \"wrangle_report.pdf\" or \"wrangle_report.html\" that briefly describes your wrangling efforts. This is to be framed as an internal document."
   ]
  },
  {
   "cell_type": "markdown",
   "metadata": {},
   "source": [
    "####  \n",
    "I started by importing the necessary libraries. Then, I went on to import the given csv file into the notebook, using pandas. I went on to scrape data from the given url, using request and wrote the contents into a new file and saved in tsv format. Next, using my vital keys, I used tweepy and the related features to scrape data from a twitter account- WeRateDogs. I scraped the favorite_counts, the retweet_counts_ and the retweeted_status, using the given tweet_ids. I scraped the retweeted_status data just to be able to identify which tweets were retweets by the twitter handle, and which ones were original tweets. \n",
    "\n",
    "Up next, I assessed the data- both visually and programmatically, to see if there were any issues during the data gathering process. I saw a couple of errors, some were during the visual assessment, but I went on to go deeper into the issues in the programmatic assessment. For example, the names of the dogs, I noticed some names like; \"a\", \"an\", \"actually\", \"very\" and so on. One thing I noticed from these names is that they all began with lower case, so that made it easy to correct. Other errors were noticed too, documented them and I went on to do the cleaning.\n",
    "\n",
    "I used the define-code-test method learnt in the classroom to carry out the cleaning process. Some of the isses fixed in this section are; erroneous datatypes, the issue of the names talked about earlier, removing the retweeted tweets- and leaving the original, amongst others. I went on to remove the columns that I felt has lesser to no relevance. An example of this is the stages of the dog, initially split into four columns, I had to merge them into one, using the names of the columns as the entries. After these, I merged the three dataframes. \n",
    "\n",
    "Furthermore, I went on to store the merged dataframe as a master dataframe."
   ]
  },
  {
   "cell_type": "code",
   "execution_count": null,
   "metadata": {},
   "outputs": [],
   "source": []
  }
 ],
 "metadata": {
  "kernelspec": {
   "display_name": "Python 3",
   "language": "python",
   "name": "python3"
  },
  "language_info": {
   "codemirror_mode": {
    "name": "ipython",
    "version": 3
   },
   "file_extension": ".py",
   "mimetype": "text/x-python",
   "name": "python",
   "nbconvert_exporter": "python",
   "pygments_lexer": "ipython3",
   "version": "3.8.8"
  }
 },
 "nbformat": 4,
 "nbformat_minor": 2
}
